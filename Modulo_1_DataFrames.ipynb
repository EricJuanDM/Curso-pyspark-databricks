{
 "cells": [
  {
   "cell_type": "code",
   "execution_count": 0,
   "metadata": {
    "application/vnd.databricks.v1+cell": {
     "cellMetadata": {
      "byteLimit": 2048000,
      "implicitDf": true,
      "rowLimit": 10000
     },
     "inputWidgets": {},
     "nuid": "e90718db-ee84-4f2d-8703-438070e72878",
     "showTitle": false,
     "tableResultSettingsMap": {},
     "title": ""
    }
   },
   "outputs": [],
   "source": [
    "# Importando os tipos de dados necessários\n",
    "from pyspark.sql.functions import col, sum, count\n",
    "from pyspark.sql.types import StructType, StructField, StringType, IntegerType, DoubleType\n",
    "\n",
    "# 1. Definindo os dados dos produtos\n",
    "dados_produtos = [\n",
    "    (1, \"Notebook Gamer\", \"Eletrônicos\", 8500.00),\n",
    "    (2, \"Cadeira de Escritório\", \"Móveis\", 1200.50),\n",
    "    (3, \"Monitor 4K\", \"Eletrônicos\", 2500.00),\n",
    "    (4, \"Teclado Mecânico\", \"Acessórios\", 350.75)\n",
    "]\n",
    "dados_vendas = [\n",
    "    (101, 1, 1, \"2025-09-20\"),\n",
    "    (102, 3, 2, \"2025-09-21\"),\n",
    "    (103, 2, 1, \"2025-09-21\"),\n",
    "    (104, 1, 1, \"2025-09-22\"),\n",
    "    (105, 4, 5, \"2025-09-23\")\n",
    "]\n",
    "\n",
    "# 2. Definindo o Schema (a estrutura da tabela)\n",
    "schema_produtos = StructType([\n",
    "    StructField(\"id_produto\", IntegerType(), True),\n",
    "    StructField(\"nome_produto\", StringType(), True),\n",
    "    StructField(\"categoria\", StringType(), True),\n",
    "    StructField(\"preco\", DoubleType(), True)\n",
    "])\n",
    "schema_vendas = StructType([\n",
    "    StructField(\"id_venda\", IntegerType(), True),\n",
    "    StructField(\"id_produto\", IntegerType(), True),\n",
    "    StructField(\"quantidade\", IntegerType(), True),\n",
    "    StructField(\"data_venda\", StringType(), True) \n",
    "])\n",
    "\n",
    "# 3. Criando o DataFrame\n",
    "df_produtos = spark.createDataFrame(data=dados_produtos, schema=schema_produtos)\n",
    "\n",
    "# 4. Exibindo os dados (Ação)\n",
    "print(\"Visualização dos dados dos produtos:\")\n",
    "df_produtos.show()\n",
    "\n",
    "# 5. Exibindo a estrutura (Schema)\n",
    "print(\"Schema do DataFrame de produtos:\")\n",
    "df_produtos.printSchema()\n",
    "\n",
    "df_vendas = spark.createDataFrame(data=dados_vendas, schema=schema_vendas)\n",
    "df_relatorio = df_vendas.join(df_produtos, on=\"id_produto\", how=\"inner\")\n",
    "print(\"Dados após o JOIN:\")\n",
    "df_relatorio.show()\n",
    "df_relatorio = df_relatorio.withColumn(\"valor_total_venda\", col(\"quantidade\")* col(\"preco\"))\n",
    "print(\"Dados com a nova coluna 'valor_total_venda':\")\n",
    "df_relatorio.show()\n",
    "\n",
    "df_final = df_relatorio.groupBy(\"categoria\") \\\n",
    "                       .agg(\n",
    "                           sum(\"valor_total_venda\").alias(\"total_vendido\"),\n",
    "                           count(\"id_venda\").alias(\"numero_de_vendas\")\n",
    "                       )\n",
    "\n",
    "# 5. Mostrando o resultado\n",
    "print(\"Relatório Final de Vendas por Categoria:\")\n",
    "df_final.show()\n"
   ]
  }
 ],
 "metadata": {
  "application/vnd.databricks.v1+notebook": {
   "computePreferences": null,
   "dashboards": [],
   "environmentMetadata": {
    "base_environment": "",
    "environment_version": "3"
   },
   "inputWidgetPreferences": null,
   "language": "python",
   "notebookMetadata": {
    "mostRecentlyExecutedCommandWithImplicitDF": {
     "commandId": -1,
     "dataframes": [
      "_sqldf"
     ]
    },
    "pythonIndentUnit": 4
   },
   "notebookName": "Modulo_1_DataFrames",
   "widgets": {}
  },
  "language_info": {
   "name": "python"
  }
 },
 "nbformat": 4,
 "nbformat_minor": 0
}
